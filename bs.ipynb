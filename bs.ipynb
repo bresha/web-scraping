{
 "cells": [
  {
   "cell_type": "code",
   "execution_count": 6,
   "metadata": {},
   "outputs": [],
   "source": [
    "from bs4 import BeautifulSoup\n",
    "import requests"
   ]
  },
  {
   "cell_type": "code",
   "execution_count": 7,
   "metadata": {},
   "outputs": [
    {
     "name": "stdout",
     "output_type": "stream",
     "text": [
      "200\n"
     ]
    }
   ],
   "source": [
    "url = 'https://hr.wikipedia.org/wiki/Umjetna_inteligencija'\n",
    "response = requests.get(url=url)\n",
    "print(response.status_code)"
   ]
  },
  {
   "cell_type": "code",
   "execution_count": 8,
   "metadata": {},
   "outputs": [
    {
     "data": {
      "text/plain": [
       "<Response [200]>"
      ]
     },
     "execution_count": 8,
     "metadata": {},
     "output_type": "execute_result"
    }
   ],
   "source": [
    "response"
   ]
  },
  {
   "cell_type": "code",
   "execution_count": 10,
   "metadata": {},
   "outputs": [],
   "source": [
    "html = response.content"
   ]
  },
  {
   "cell_type": "code",
   "execution_count": 11,
   "metadata": {},
   "outputs": [
    {
     "data": {
      "text/plain": [
       "b'<!DOCTYPE html>\\n<html class=\"client-nojs\" lang=\"hr\" dir=\"ltr\">\\n<head>\\n<meta charset=\"UTF-8\"/>\\n<title'"
      ]
     },
     "execution_count": 11,
     "metadata": {},
     "output_type": "execute_result"
    }
   ],
   "source": [
    "html[:100]"
   ]
  },
  {
   "cell_type": "code",
   "execution_count": 12,
   "metadata": {},
   "outputs": [],
   "source": [
    "soup = BeautifulSoup(html, 'html.parser')"
   ]
  },
  {
   "cell_type": "code",
   "execution_count": 13,
   "metadata": {},
   "outputs": [],
   "source": [
    "p = soup.findAll('p')"
   ]
  },
  {
   "cell_type": "code",
   "execution_count": 14,
   "metadata": {},
   "outputs": [
    {
     "data": {
      "text/plain": [
       "[<p><b>Umjetna inteligencija</b> (<b>UI</b>) je naziv koji pridajemo svakom neživom sustavu koji pokazuje sposobnost snalaženja u novim situacijama (<a href=\"/wiki/Inteligencija\" title=\"Inteligencija\">inteligenciju</a>). Engleski naziv za umjetnu inteligenciju je <b>artificial intelligence</b> skraćeno <b>AI</b>. \n",
       " </p>,\n",
       " <p>Uobičajeno je da se to ime pridaje <a href=\"/wiki/Ra%C4%8Dunalo\" title=\"Računalo\">računalnim</a> sustavima. Izraz se neosnovano primjenjuje i na <a href=\"/wiki/Robot\" title=\"Robot\">robote</a>, jer njihov sustav ne mora nužno biti inteligentan.\n",
       " </p>,\n",
       " <p>Svaku računalnu umjetnu inteligenciju namijenjenu rješavanju problema nazivamo ograničenom UI. Svi dosadašnji oblici umjetne inteligencije spadaju u ovu grupu jer su ograničeni na rješavanje samo određenih problema i nemaju vlastitu <a href=\"/wiki/Svijest\" title=\"Svijest\">svijest</a> niti razumijevanje.\n",
       " </p>,\n",
       " <p>Čovjek još nije u stanju proizvesti umjetnu inteligenciju koja bi se približila čovjekovoj i svjesno razumijevala i rješavala probleme. Mogućnost izrade svjesne umjetne inteligencije je za sada predmet <a href=\"/wiki/Filozofija\" title=\"Filozofija\">filozofskih rasprava</a>.\n",
       " </p>,\n",
       " <p>Brojna su područja primjene za umjetnu inteligenciju.\n",
       " </p>]"
      ]
     },
     "execution_count": 14,
     "metadata": {},
     "output_type": "execute_result"
    }
   ],
   "source": [
    "p"
   ]
  },
  {
   "cell_type": "code",
   "execution_count": null,
   "metadata": {},
   "outputs": [],
   "source": []
  }
 ],
 "metadata": {
  "interpreter": {
   "hash": "2d31bec5dba9193afa4f25a488b583e99455a37a9deba4ee9817b15403b9d996"
  },
  "kernelspec": {
   "display_name": "Python 3.10.0 64-bit ('web-scraping-env': conda)",
   "language": "python",
   "name": "python3"
  },
  "language_info": {
   "codemirror_mode": {
    "name": "ipython",
    "version": 3
   },
   "file_extension": ".py",
   "mimetype": "text/x-python",
   "name": "python",
   "nbconvert_exporter": "python",
   "pygments_lexer": "ipython3",
   "version": "3.9.7"
  },
  "orig_nbformat": 4
 },
 "nbformat": 4,
 "nbformat_minor": 2
}
